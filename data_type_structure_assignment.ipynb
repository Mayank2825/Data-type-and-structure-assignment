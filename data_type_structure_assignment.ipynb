{
  "nbformat": 4,
  "nbformat_minor": 0,
  "metadata": {
    "colab": {
      "provenance": []
    },
    "kernelspec": {
      "name": "python3",
      "display_name": "Python 3"
    },
    "language_info": {
      "name": "python"
    }
  },
  "cells": [
    {
      "cell_type": "markdown",
      "source": [
        "# Data Type And Structures Assignment Theoritical Questions"
      ],
      "metadata": {
        "id": "3LUsgYtnD-Af"
      }
    },
    {
      "cell_type": "markdown",
      "source": [
        "1. What are data structures, and why are they important?\n",
        "\n",
        "    - Data structures are ways of organizing and storing data to enable efficient access and modification. They are essential for optimizing data processing, improving algorithm performance, and solving problems effectively."
      ],
      "metadata": {
        "id": "xza8HXhhEQOw"
      }
    },
    {
      "cell_type": "markdown",
      "source": [
        "2. Explain the difference between mutable and immutable data types with examples.\n",
        "\n",
        "    - Mutable: Can be changed after creation.\n",
        "\n",
        "      Example: list, dict, set\n",
        "\n",
        "           my_list = [1, 2, 3]\n",
        "       my_list.append(4)  # This modifies the original list\n",
        "\n",
        "\n",
        "    - Immutable: Cannot be changed after creation.\n",
        "\n",
        "      Example: int, float, tuple, str\n",
        "\n",
        "           my_str = \"hello\"\n",
        "      my_str[0] = \"H\"  → Error"
      ],
      "metadata": {
        "id": "8I8CFmO2ElW7"
      }
    },
    {
      "cell_type": "markdown",
      "source": [
        "3. What are the main differences between lists and tuples in Python?\n",
        "  - 1. Mutability\n",
        "\n",
        "       -List: Mutable – its contents (elements) can be changed after creation (elements can be added, removed, or modified).\n",
        "\n",
        "       -Tuple: Immutable – once created, its contents cannot be changed. This makes tuples more stable and suitable for fixed data.\n",
        "\n",
        "      2. Syntax\n",
        "\n",
        "         -List: Defined using square brackets []\n",
        "\n",
        "         Example: my_list = [1, 2, 3]\n",
        "\n",
        "         -Tuple: Defined using parentheses ()\n",
        "\n",
        "          Example: my_tuple = (1, 2, 3)\n",
        "\n",
        "      3. Performance\n",
        "\n",
        "         Tuples are generally faster than lists when it comes to iteration and access because they are immutable and have less overhead.\n",
        "\n",
        "         Lists have additional methods and flexibility, which may lead to a slight performance cost."
      ],
      "metadata": {
        "id": "HSsBKXraGAa2"
      }
    },
    {
      "cell_type": "markdown",
      "source": [
        "4. Describe how dictionaries store data.\n",
        "\n",
        "    - Dictionaries store data as key-value pairs using a hash table internally. Each key is hashed to find its index, enabling fast lookup, insertion, and deletion."
      ],
      "metadata": {
        "id": "zWTBQo1qHNrL"
      }
    },
    {
      "cell_type": "markdown",
      "source": [
        "5. Why might you use a set instead of a list in Python?\n",
        "\n",
        "    - Sets automatically remove duplicate values.\n",
        "\n",
        "      Offer faster membership testing (in) compared to lists due to internal hashing."
      ],
      "metadata": {
        "id": "0mD_3e2THTTy"
      }
    },
    {
      "cell_type": "markdown",
      "source": [
        "6. What is a string in Python, and how is it different from a list?\n",
        "\n",
        "    - A string is a sequence of characters (e.g., \"hello\") and is immutable.\n",
        "\n",
        "      A list is a collection of elements (e.g., [1, \"hello\", 3.5]) and is mutable."
      ],
      "metadata": {
        "id": "b3skbzkvHh7t"
      }
    },
    {
      "cell_type": "markdown",
      "source": [
        "7. How do tuples ensure data integrity in Python?\n",
        "\n",
        "    - Tuples are immutable, meaning once created, their contents can’t be changed. This helps ensure the data remains unchanged and safe from accidental modification."
      ],
      "metadata": {
        "id": "q3Y3MsiRH8mn"
      }
    },
    {
      "cell_type": "markdown",
      "source": [
        "8. What is a hash table, and how does it relate to dictionaries in Python?\n",
        "\n",
        "    - A hash table is a data structure that maps keys to values using a hash function. Python dictionaries use hash tables to allow O(1) average time complexity for access, insertion, and deletion."
      ],
      "metadata": {
        "id": "Q1Yfy0GfIDnB"
      }
    },
    {
      "cell_type": "markdown",
      "source": [
        "9. Can lists contain different data types in Python?\n",
        "\n",
        "    - Yes. Python lists are heterogeneous, meaning they can contain multiple data types:\n",
        "\n",
        "      my_list = [1, \"hello\", 3.14, [4, 5]]\n"
      ],
      "metadata": {
        "id": "7PxlFDauINYW"
      }
    },
    {
      "cell_type": "markdown",
      "source": [
        "10. Explain why strings are immutable in Python.\n",
        "\n",
        "    - Strings are immutable for reasons including:\n",
        "\n",
        "       - Thread safety\n",
        "\n",
        "        - Memory efficiency (shared strings)\n",
        "\n",
        "         - Hashing support (immutable objects can be dictionary keys)"
      ],
      "metadata": {
        "id": "p5cBtkTmIeOZ"
      }
    },
    {
      "cell_type": "markdown",
      "source": [
        "11. What advantages do dictionaries offer over lists for certain tasks?\n",
        "\n",
        "    - Faster lookups by key (O(1) vs. O(n))\n",
        "\n",
        "    - key-value mapping, ideal for associative data\n",
        "\n",
        "      Example: storing user data by ID"
      ],
      "metadata": {
        "id": "2WO-26kYIteO"
      }
    },
    {
      "cell_type": "markdown",
      "source": [
        "12. Describe a scenario where using a tuple would be preferable over a list.\n",
        "\n",
        "    - When you need to store constant data that shouldn’t be modified.\n",
        "    \n",
        "      Example: (latitude, longitude) for a GPS coordinate."
      ],
      "metadata": {
        "id": "2mr_SRixI8J0"
      }
    },
    {
      "cell_type": "markdown",
      "source": [
        "13. How do sets handle duplicate values in Python?\n",
        "\n",
        "    - Sets automatically eliminate duplicates.\n",
        "\n",
        "      set([1, 2, 2, 3])\n",
        "       # Output: {1, 2, 3}"
      ],
      "metadata": {
        "id": "iV7aA9s2JJtt"
      }
    },
    {
      "cell_type": "markdown",
      "source": [
        "14. How does the in keyword work differently for lists and dictionaries?\n",
        "\n",
        "    - List: Checks if a value is in the list → O(n)\n",
        "\n",
        "    - Dictionary: Checks if a key exists → O(1) average"
      ],
      "metadata": {
        "id": "vXO-CWjpJY0n"
      }
    },
    {
      "cell_type": "markdown",
      "source": [
        "15. Can you modify the elements of a tuple? Explain why or why not.\n",
        "\n",
        "    - No. Tuples are immutable. Once created, elements cannot be changed, added, or removed."
      ],
      "metadata": {
        "id": "WvS8aXL9Jig5"
      }
    },
    {
      "cell_type": "markdown",
      "source": [
        "16. What is a nested dictionary, and give an example of its use case.\n",
        "\n",
        "    - A nested dictionary is a dictionary inside another dictionary.\n",
        "\n",
        "      Use case: Storing structured data like student records.\n",
        "\n",
        "       students = {\n",
        "        \n",
        "        \"Alice\": {\"age\": 20, \"grade\": \"A\"},\n",
        "\n",
        "         \"Bob\": {\"age\": 22, \"grade\": \"B\"},\n",
        "\n",
        "         }\n"
      ],
      "metadata": {
        "id": "eZTsLx3OJrWc"
      }
    },
    {
      "cell_type": "markdown",
      "source": [
        "17. Describe the time complexity of accessing elements in a dictionary.\n",
        "\n",
        "    - Average case: O(1) (constant time)\n",
        "\n",
        "      Worst case (in rare hash collision scenarios): O(n)"
      ],
      "metadata": {
        "id": "3wq11Gm0KHDc"
      }
    },
    {
      "cell_type": "markdown",
      "source": [
        "18. In what situations are lists preferred over dictionaries?\n",
        "\n",
        "    - -  When order matters\n",
        "\n",
        "        - For sequential data\n",
        "\n",
        "        -  When index-based access is needed"
      ],
      "metadata": {
        "id": "RPeC3E-YKPab"
      }
    },
    {
      "cell_type": "markdown",
      "source": [
        "19. Why are dictionaries considered unordered, and how does that affect data retrieval?\n",
        "\n",
        "    - Prior to Python 3.7, dictionaries didn't maintain insertion order. Even though modern Python versions preserve order, they are still optimized for key-based access, not order-based traversal."
      ],
      "metadata": {
        "id": "wV0Dv5yLKrik"
      }
    },
    {
      "cell_type": "markdown",
      "source": [
        "20. Explain the difference between a list and a dictionary in terms of data retrieval.\n",
        "\n",
        "    - List: Access via index → list[0]\n",
        "\n",
        "    - Dictionary: Access via key → dict[\"name\"]\n",
        "\n",
        "    - Lists are ordered, dictionaries are key-mapped"
      ],
      "metadata": {
        "id": "sO0pplrlKwO4"
      }
    },
    {
      "cell_type": "markdown",
      "source": [
        "# Practical Questions"
      ],
      "metadata": {
        "id": "L3MRfmUyLEKQ"
      }
    },
    {
      "cell_type": "code",
      "source": [
        "#1. Create a string with your name and print it\n",
        "name = \"John Doe\"\n",
        "print(name)\n"
      ],
      "metadata": {
        "id": "TaKM89lrPpQs"
      },
      "execution_count": null,
      "outputs": []
    },
    {
      "cell_type": "code",
      "source": [
        "# 2. Find the length of the string \"Hello World\"\n",
        "text = \"Hello World\"\n",
        "print(len(text))\n",
        "\n"
      ],
      "metadata": {
        "colab": {
          "base_uri": "https://localhost:8080/"
        },
        "id": "qyOYXzxYY7Jw",
        "outputId": "41b3756a-418f-4c89-fb2a-29bfb113526a"
      },
      "execution_count": 2,
      "outputs": [
        {
          "output_type": "stream",
          "name": "stdout",
          "text": [
            "11\n"
          ]
        }
      ]
    },
    {
      "cell_type": "code",
      "source": [
        "# 3. Slice the first 3 characters from the string \"Python Programming\"\n",
        "s = \"Python Programming\"\n",
        "print(s[:3])\n"
      ],
      "metadata": {
        "colab": {
          "base_uri": "https://localhost:8080/"
        },
        "id": "JjrqTd3OZE3E",
        "outputId": "76413593-04fa-4ad9-96bb-ef740a1ae386"
      },
      "execution_count": 3,
      "outputs": [
        {
          "output_type": "stream",
          "name": "stdout",
          "text": [
            "Pyt\n"
          ]
        }
      ]
    },
    {
      "cell_type": "code",
      "source": [
        "# 4. Convert the string \"hello\" to uppercase\n",
        "word = \"hello\"\n",
        "print(word.upper())\n"
      ],
      "metadata": {
        "colab": {
          "base_uri": "https://localhost:8080/"
        },
        "id": "Jb5Fs4--ZLNx",
        "outputId": "520507a2-1026-47c6-96c3-1652cf8ca88f"
      },
      "execution_count": 4,
      "outputs": [
        {
          "output_type": "stream",
          "name": "stdout",
          "text": [
            "HELLO\n"
          ]
        }
      ]
    },
    {
      "cell_type": "code",
      "source": [
        "# 5. Replace the word \"apple\" with \"orange\" in the string \"I like apple\"\n",
        "sentence = \"I like apple\"\n",
        "print(sentence.replace(\"apple\", \"orange\"))\n"
      ],
      "metadata": {
        "colab": {
          "base_uri": "https://localhost:8080/"
        },
        "id": "PQD_L_EsZQ_d",
        "outputId": "984ec1bd-c64e-420c-93b0-c1fc804749fb"
      },
      "execution_count": 5,
      "outputs": [
        {
          "output_type": "stream",
          "name": "stdout",
          "text": [
            "I like orange\n"
          ]
        }
      ]
    },
    {
      "cell_type": "code",
      "source": [
        "# 6. Create a list with numbers 1 to 5 and print it\n",
        "numbers = [1, 2, 3, 4, 5]\n",
        "print(numbers)\n"
      ],
      "metadata": {
        "colab": {
          "base_uri": "https://localhost:8080/"
        },
        "id": "cxbHwZTUZVDe",
        "outputId": "a56c4e56-997d-4311-cf5d-65bd49e8c5d8"
      },
      "execution_count": 6,
      "outputs": [
        {
          "output_type": "stream",
          "name": "stdout",
          "text": [
            "[1, 2, 3, 4, 5]\n"
          ]
        }
      ]
    },
    {
      "cell_type": "code",
      "source": [
        "# 7. Append the number 10 to the list [1, 2, 3, 4]\n",
        "lst = [1, 2, 3, 4]\n",
        "lst.append(10)\n",
        "print(lst)\n"
      ],
      "metadata": {
        "colab": {
          "base_uri": "https://localhost:8080/"
        },
        "id": "wS5GkF-UZcIA",
        "outputId": "452f14da-1a09-4b72-c5c6-15cc7f05b638"
      },
      "execution_count": 7,
      "outputs": [
        {
          "output_type": "stream",
          "name": "stdout",
          "text": [
            "[1, 2, 3, 4, 10]\n"
          ]
        }
      ]
    },
    {
      "cell_type": "code",
      "source": [
        "# 8. Remove the number 3 from the list [1, 2, 3, 4, 5]\n",
        "nums = [1, 2, 3, 4, 5]\n",
        "nums.remove(3)\n",
        "print(nums)\n"
      ],
      "metadata": {
        "colab": {
          "base_uri": "https://localhost:8080/"
        },
        "id": "UfoGd58LZfVl",
        "outputId": "a4379bb4-d1cb-4f5c-f80f-c74c564fad55"
      },
      "execution_count": 8,
      "outputs": [
        {
          "output_type": "stream",
          "name": "stdout",
          "text": [
            "[1, 2, 4, 5]\n"
          ]
        }
      ]
    },
    {
      "cell_type": "code",
      "source": [
        "# 9. Access the second element in the list ['a', 'b', 'c', 'd']\n",
        "letters = ['a', 'b', 'c', 'd']\n",
        "print(letters[1])\n"
      ],
      "metadata": {
        "colab": {
          "base_uri": "https://localhost:8080/"
        },
        "id": "3br2XHvuZiOp",
        "outputId": "317a9ce5-65e4-4ea9-f03d-63797604cc42"
      },
      "execution_count": 9,
      "outputs": [
        {
          "output_type": "stream",
          "name": "stdout",
          "text": [
            "b\n"
          ]
        }
      ]
    },
    {
      "cell_type": "code",
      "source": [
        "# 10. Reverse the list [10, 20, 30, 40, 50]\n",
        "values = [10, 20, 30, 40, 50]\n",
        "values.reverse()\n",
        "print(values)\n"
      ],
      "metadata": {
        "colab": {
          "base_uri": "https://localhost:8080/"
        },
        "id": "C7T5B65eZmq2",
        "outputId": "764664e3-01ec-4a74-94c0-51e04717ce78"
      },
      "execution_count": 10,
      "outputs": [
        {
          "output_type": "stream",
          "name": "stdout",
          "text": [
            "[50, 40, 30, 20, 10]\n"
          ]
        }
      ]
    },
    {
      "cell_type": "code",
      "source": [
        "# 11. Create a tuple with the elements 100, 200, 300 and print it\n",
        "tup = (100, 200, 300)\n",
        "print(tup)\n"
      ],
      "metadata": {
        "colab": {
          "base_uri": "https://localhost:8080/"
        },
        "id": "LIopjze5Zr5c",
        "outputId": "5f8bf3d4-04ea-4fac-e6fd-384d6c0f80a6"
      },
      "execution_count": 11,
      "outputs": [
        {
          "output_type": "stream",
          "name": "stdout",
          "text": [
            "(100, 200, 300)\n"
          ]
        }
      ]
    },
    {
      "cell_type": "code",
      "source": [
        "# 12. Access the second-to-last element of the tuple ('red', 'green', 'blue', 'yellow')\n",
        "colors = ('red', 'green', 'blue', 'yellow')\n",
        "print(colors[-2])\n"
      ],
      "metadata": {
        "colab": {
          "base_uri": "https://localhost:8080/"
        },
        "id": "fLvoXdKDZwf6",
        "outputId": "4fc0c5f0-e594-421c-a622-b56cd880b69c"
      },
      "execution_count": 12,
      "outputs": [
        {
          "output_type": "stream",
          "name": "stdout",
          "text": [
            "blue\n"
          ]
        }
      ]
    },
    {
      "cell_type": "code",
      "source": [
        "# 13. Find the minimum number in the tuple (10, 20, 5, 15)\n",
        "numbers = (10, 20, 5, 15)\n",
        "print(min(numbers))\n"
      ],
      "metadata": {
        "colab": {
          "base_uri": "https://localhost:8080/"
        },
        "id": "lPW3pTZxZzaK",
        "outputId": "6121321e-f795-4fb7-8287-46b29a8b6d3a"
      },
      "execution_count": 13,
      "outputs": [
        {
          "output_type": "stream",
          "name": "stdout",
          "text": [
            "5\n"
          ]
        }
      ]
    },
    {
      "cell_type": "code",
      "source": [
        "# 14. Find the index of the element \"cat\" in the tuple ('dog', 'cat', 'rabbit')\n",
        "animals = ('dog', 'cat', 'rabbit')\n",
        "print(animals.index(\"cat\"))\n"
      ],
      "metadata": {
        "colab": {
          "base_uri": "https://localhost:8080/"
        },
        "id": "3mGslBU1Z8ao",
        "outputId": "55cebf12-6c48-40cc-c044-3921c33f88f6"
      },
      "execution_count": 14,
      "outputs": [
        {
          "output_type": "stream",
          "name": "stdout",
          "text": [
            "1\n"
          ]
        }
      ]
    },
    {
      "cell_type": "code",
      "source": [
        "# 15. Create a tuple containing three different fruits and check if \"kiwi\" is in it\n",
        "fruits = (\"apple\", \"banana\", \"cherry\")\n",
        "print(\"kiwi\" in fruits)\n"
      ],
      "metadata": {
        "colab": {
          "base_uri": "https://localhost:8080/"
        },
        "id": "wvfZeb3LZ_Je",
        "outputId": "44f2acc5-c39b-4597-9a24-feaa63a8ca86"
      },
      "execution_count": 15,
      "outputs": [
        {
          "output_type": "stream",
          "name": "stdout",
          "text": [
            "False\n"
          ]
        }
      ]
    },
    {
      "cell_type": "code",
      "source": [
        "# 16. Create a set with the elements 'a', 'b', 'c' and print it\n",
        "letters = {'a', 'b', 'c'}\n",
        "print(letters)\n"
      ],
      "metadata": {
        "colab": {
          "base_uri": "https://localhost:8080/"
        },
        "id": "XV9PJoC8aDJo",
        "outputId": "42574808-340f-4862-8baa-b365b9def6f8"
      },
      "execution_count": 16,
      "outputs": [
        {
          "output_type": "stream",
          "name": "stdout",
          "text": [
            "{'b', 'a', 'c'}\n"
          ]
        }
      ]
    },
    {
      "cell_type": "code",
      "source": [
        "# 17. Clear all elements from the set {1, 2, 3, 4, 5}\n",
        "s = {1, 2, 3, 4, 5}\n",
        "s.clear()\n",
        "print(s)\n",
        "\n"
      ],
      "metadata": {
        "colab": {
          "base_uri": "https://localhost:8080/"
        },
        "id": "P_wDl1hyaGd6",
        "outputId": "a42af244-9705-4961-fbac-06506b9e5106"
      },
      "execution_count": 17,
      "outputs": [
        {
          "output_type": "stream",
          "name": "stdout",
          "text": [
            "set()\n"
          ]
        }
      ]
    },
    {
      "cell_type": "code",
      "source": [
        "# 18. Remove the element 4 from the set {1, 2, 3, 4}\n",
        "nums = {1, 2, 3, 4}\n",
        "nums.remove(4)\n",
        "print(nums)\n"
      ],
      "metadata": {
        "colab": {
          "base_uri": "https://localhost:8080/"
        },
        "id": "y8-V85GpaLDV",
        "outputId": "bc9466a3-9faa-41c5-a83a-91f4b5c12531"
      },
      "execution_count": 18,
      "outputs": [
        {
          "output_type": "stream",
          "name": "stdout",
          "text": [
            "{1, 2, 3}\n"
          ]
        }
      ]
    },
    {
      "cell_type": "code",
      "source": [
        "# 19. Find the union of two sets {1, 2, 3} and {3, 4, 5}\n",
        "set1 = {1, 2, 3}\n",
        "set2 = {3, 4, 5}\n",
        "print(set1.union(set2))\n"
      ],
      "metadata": {
        "colab": {
          "base_uri": "https://localhost:8080/"
        },
        "id": "YX8qBAX-aOaL",
        "outputId": "d1f1f145-d7d7-4000-fd83-57334400478c"
      },
      "execution_count": 19,
      "outputs": [
        {
          "output_type": "stream",
          "name": "stdout",
          "text": [
            "{1, 2, 3, 4, 5}\n"
          ]
        }
      ]
    },
    {
      "cell_type": "code",
      "source": [
        "# 20. Find the intersection of two sets {1, 2, 3} and {2, 3, 4}\n",
        "a = {1, 2, 3}\n",
        "b = {2, 3, 4}\n",
        "print(a.intersection(b))\n"
      ],
      "metadata": {
        "colab": {
          "base_uri": "https://localhost:8080/"
        },
        "id": "HKUECf96aROO",
        "outputId": "86e2c1cd-18a3-4212-cac5-96fcbfda397e"
      },
      "execution_count": 20,
      "outputs": [
        {
          "output_type": "stream",
          "name": "stdout",
          "text": [
            "{2, 3}\n"
          ]
        }
      ]
    },
    {
      "cell_type": "code",
      "source": [
        "# 21. Create a dictionary with the keys \"name\", \"age\", and \"city\", and print it\n",
        "person = {\"name\": \"John\", \"age\": 25, \"city\": \"New York\"}\n",
        "print(person)\n"
      ],
      "metadata": {
        "colab": {
          "base_uri": "https://localhost:8080/"
        },
        "id": "RIzdpOmcaU02",
        "outputId": "2127573f-1a7d-420d-8b7d-61baf3100b1c"
      },
      "execution_count": 21,
      "outputs": [
        {
          "output_type": "stream",
          "name": "stdout",
          "text": [
            "{'name': 'John', 'age': 25, 'city': 'New York'}\n"
          ]
        }
      ]
    },
    {
      "cell_type": "code",
      "source": [
        "# 22. Add a new key-value pair \"country\": \"USA\" to the dictionary {'name': 'John', 'age': 25}\n",
        "info = {'name': 'John', 'age': 25}\n",
        "info[\"country\"] = \"USA\"\n",
        "print(info)\n"
      ],
      "metadata": {
        "colab": {
          "base_uri": "https://localhost:8080/"
        },
        "id": "mjE8BgUsaXeg",
        "outputId": "c50f6e42-4661-4ec9-cbd8-0f6d084f5c69"
      },
      "execution_count": 22,
      "outputs": [
        {
          "output_type": "stream",
          "name": "stdout",
          "text": [
            "{'name': 'John', 'age': 25, 'country': 'USA'}\n"
          ]
        }
      ]
    },
    {
      "cell_type": "code",
      "source": [
        "# 23. Access the value associated with the key \"name\" in the dictionary {'name': 'Alice', 'age': 30}\n",
        "data = {'name': 'Alice', 'age': 30}\n",
        "print(data[\"name\"])\n"
      ],
      "metadata": {
        "colab": {
          "base_uri": "https://localhost:8080/"
        },
        "id": "VvMFkqR-aZ3N",
        "outputId": "e915486c-617f-4d39-d947-a4061a00cb52"
      },
      "execution_count": 23,
      "outputs": [
        {
          "output_type": "stream",
          "name": "stdout",
          "text": [
            "Alice\n"
          ]
        }
      ]
    },
    {
      "cell_type": "code",
      "source": [
        "# 24. Remove the key \"age\" from the dictionary {'name': 'Bob', 'age': 22, 'city': 'New York'}\n",
        "d = {'name': 'Bob', 'age': 22, 'city': 'New York'}\n",
        "d.pop(\"age\")\n",
        "print(d)\n"
      ],
      "metadata": {
        "colab": {
          "base_uri": "https://localhost:8080/"
        },
        "id": "ApOOu0Vaacp6",
        "outputId": "46866e97-aa33-4af7-ca81-1c9be895e42d"
      },
      "execution_count": 24,
      "outputs": [
        {
          "output_type": "stream",
          "name": "stdout",
          "text": [
            "{'name': 'Bob', 'city': 'New York'}\n"
          ]
        }
      ]
    },
    {
      "cell_type": "code",
      "source": [
        "# 25. Check if the key \"city\" exists in the dictionary {'name': 'Alice', 'city': 'Paris'}\n",
        "dic = {'name': 'Alice', 'city': 'Paris'}\n",
        "print(\"city\" in dic)\n"
      ],
      "metadata": {
        "colab": {
          "base_uri": "https://localhost:8080/"
        },
        "id": "8oeWVQu3agCZ",
        "outputId": "8c030a4a-94f5-492b-aaf4-d2da87568a53"
      },
      "execution_count": 25,
      "outputs": [
        {
          "output_type": "stream",
          "name": "stdout",
          "text": [
            "True\n"
          ]
        }
      ]
    },
    {
      "cell_type": "code",
      "source": [
        "# 26. Create a list, a tuple, and a dictionary, and print them all\n",
        "my_list = [1, 2, 3]\n",
        "my_tuple = (4, 5, 6)\n",
        "my_dict = {\"a\": 1, \"b\": 2}\n",
        "print(my_list, my_tuple, my_dict)\n"
      ],
      "metadata": {
        "colab": {
          "base_uri": "https://localhost:8080/"
        },
        "id": "mD7Qcrfcailx",
        "outputId": "fc8b24f7-9a03-4b0e-b59a-77f9d13deb3b"
      },
      "execution_count": 26,
      "outputs": [
        {
          "output_type": "stream",
          "name": "stdout",
          "text": [
            "[1, 2, 3] (4, 5, 6) {'a': 1, 'b': 2}\n"
          ]
        }
      ]
    },
    {
      "cell_type": "code",
      "source": [
        "# 27. Create a list of 5 random numbers between 1 and 100, sort it in ascending order, and print\n",
        "import random\n",
        "rand_list = [random.randint(1, 100) for _ in range(5)]\n",
        "rand_list.sort()\n",
        "print(rand_list)\n"
      ],
      "metadata": {
        "colab": {
          "base_uri": "https://localhost:8080/"
        },
        "id": "NaSpqWqFalN5",
        "outputId": "964a8390-b23f-46ba-88db-8cf9cdc693c1"
      },
      "execution_count": 27,
      "outputs": [
        {
          "output_type": "stream",
          "name": "stdout",
          "text": [
            "[38, 57, 69, 91, 91]\n"
          ]
        }
      ]
    },
    {
      "cell_type": "code",
      "source": [
        "# 28. Create a list with strings and print the element at the third index\n",
        "words = [\"apple\", \"banana\", \"cherry\", \"date\", \"elderberry\"]\n",
        "print(words[3])\n"
      ],
      "metadata": {
        "colab": {
          "base_uri": "https://localhost:8080/"
        },
        "id": "IYQWMbUOan4b",
        "outputId": "85a52b00-d01f-4b7e-f2c1-7c981c7a8a0a"
      },
      "execution_count": 28,
      "outputs": [
        {
          "output_type": "stream",
          "name": "stdout",
          "text": [
            "date\n"
          ]
        }
      ]
    },
    {
      "cell_type": "code",
      "source": [
        "# 29. Combine two dictionaries into one and print the result\n",
        "dict1 = {'a': 1, 'b': 2}\n",
        "dict2 = {'c': 3, 'd': 4}\n",
        "combined = {**dict1, **dict2}\n",
        "print(combined)\n"
      ],
      "metadata": {
        "colab": {
          "base_uri": "https://localhost:8080/"
        },
        "id": "KpKtCqwPaqUQ",
        "outputId": "1ee668bf-62f2-4195-d3af-6ed3ac9d0975"
      },
      "execution_count": 29,
      "outputs": [
        {
          "output_type": "stream",
          "name": "stdout",
          "text": [
            "{'a': 1, 'b': 2, 'c': 3, 'd': 4}\n"
          ]
        }
      ]
    },
    {
      "cell_type": "code",
      "source": [
        "# 30. Convert a list of strings into a set\n",
        "str_list = [\"apple\", \"banana\", \"cherry\", \"apple\"]\n",
        "str_set = set(str_list)\n",
        "print(str_set)\n"
      ],
      "metadata": {
        "colab": {
          "base_uri": "https://localhost:8080/"
        },
        "id": "wKUg6UKRatMV",
        "outputId": "56ba06dd-81c5-4087-945f-0b16c00983ea"
      },
      "execution_count": 30,
      "outputs": [
        {
          "output_type": "stream",
          "name": "stdout",
          "text": [
            "{'cherry', 'banana', 'apple'}\n"
          ]
        }
      ]
    },
    {
      "cell_type": "code",
      "source": [],
      "metadata": {
        "id": "Gb2sYdmlavZy"
      },
      "execution_count": null,
      "outputs": []
    }
  ]
}